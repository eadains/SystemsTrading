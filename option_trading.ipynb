{
 "cells": [
  {
   "cell_type": "code",
   "execution_count": 1,
   "id": "2e529c67",
   "metadata": {},
   "outputs": [],
   "source": [
    "from modules.option_trading import OptionPosition\n",
    "from modules.vol_mdn import MDNVol, Data\n",
    "\n",
    "import numpy as np\n",
    "import pandas as pd\n",
    "\n",
    "from matplotlib import pyplot as plt\n",
    "\n",
    "plt.rcParams[\"figure.figsize\"] = (15, 10)"
   ]
  },
  {
   "cell_type": "code",
   "execution_count": 2,
   "id": "407b1bcb",
   "metadata": {},
   "outputs": [],
   "source": [
    "data = Data()"
   ]
  },
  {
   "cell_type": "code",
   "execution_count": 3,
   "id": "2b1fbf79",
   "metadata": {},
   "outputs": [],
   "source": [
    "x, y = data.get_training_data()\n",
    "oos_x = data.get_forecast_data()"
   ]
  },
  {
   "cell_type": "code",
   "execution_count": 4,
   "id": "9a8821eb",
   "metadata": {
    "scrolled": false
   },
   "outputs": [
    {
     "name": "stdout",
     "output_type": "stream",
     "text": [
      "Epoch 0 complete. Loss: 26114.40625\n",
      "Epoch 10 complete. Loss: 12528.17578125\n",
      "Epoch 20 complete. Loss: 9715.4814453125\n",
      "Epoch 30 complete. Loss: 8128.7197265625\n",
      "Epoch 40 complete. Loss: 7224.7919921875\n",
      "Epoch 50 complete. Loss: 6631.3037109375\n",
      "Epoch 60 complete. Loss: 6269.587890625\n",
      "Epoch 70 complete. Loss: 6180.6015625\n",
      "Epoch 80 complete. Loss: 5995.51513671875\n",
      "Epoch 90 complete. Loss: 5842.701171875\n",
      "Epoch 100 complete. Loss: 5932.482421875\n",
      "Epoch 110 complete. Loss: 5369.158203125\n",
      "Epoch 120 complete. Loss: 5091.29638671875\n",
      "Epoch 130 complete. Loss: 4890.8623046875\n",
      "Epoch 140 complete. Loss: 4725.12548828125\n",
      "Epoch 150 complete. Loss: 4602.671875\n",
      "Epoch 160 complete. Loss: 4485.81640625\n",
      "Epoch 170 complete. Loss: 4471.2158203125\n",
      "Epoch 180 complete. Loss: 4436.23193359375\n",
      "Epoch 190 complete. Loss: 4424.09033203125\n",
      "Epoch 200 complete. Loss: 4337.56298828125\n",
      "Epoch 210 complete. Loss: 4328.91455078125\n",
      "Epoch 220 complete. Loss: 4364.443359375\n",
      "Epoch 230 complete. Loss: 4210.87548828125\n",
      "Epoch 240 complete. Loss: 4223.130859375\n",
      "Epoch 250 complete. Loss: 4246.466796875\n",
      "Epoch 260 complete. Loss: 4286.6474609375\n",
      "Epoch 270 complete. Loss: 4298.0673828125\n",
      "Epoch 280 complete. Loss: 4215.27734375\n",
      "Epoch 290 complete. Loss: 4337.53759765625\n",
      "Epoch 300 complete. Loss: 4279.12451171875\n",
      "Epoch 310 complete. Loss: 4357.9677734375\n",
      "Epoch 320 complete. Loss: 4320.25927734375\n",
      "Epoch 330 complete. Loss: 4257.498046875\n",
      "Epoch 340 complete. Loss: 4255.70703125\n",
      "Epoch 350 complete. Loss: 4095.61376953125\n",
      "Epoch 360 complete. Loss: 4222.232421875\n",
      "Epoch 370 complete. Loss: 4187.94287109375\n",
      "Epoch 380 complete. Loss: 4197.01171875\n",
      "Epoch 390 complete. Loss: 4088.980712890625\n",
      "Epoch 400 complete. Loss: 4192.55517578125\n",
      "Epoch 410 complete. Loss: 4145.185546875\n",
      "Epoch 420 complete. Loss: 4104.279296875\n",
      "Epoch 430 complete. Loss: 4104.1064453125\n",
      "Epoch 440 complete. Loss: 4101.8212890625\n",
      "Epoch 450 complete. Loss: 4096.4833984375\n",
      "Epoch 460 complete. Loss: 4216.51953125\n",
      "Epoch 470 complete. Loss: 4035.873291015625\n",
      "Epoch 480 complete. Loss: 4117.580078125\n",
      "Epoch 490 complete. Loss: 4018.093505859375\n"
     ]
    }
   ],
   "source": [
    "model = MDNVol(x, y)\n",
    "dist = model.output_dist(oos_x)"
   ]
  },
  {
   "cell_type": "code",
   "execution_count": 5,
   "id": "31543a01",
   "metadata": {},
   "outputs": [],
   "source": [
    "vols = dist.sample([100000]).squeeze().numpy()\n",
    "vols = np.sqrt(np.exp(vols))"
   ]
  },
  {
   "cell_type": "code",
   "execution_count": 6,
   "id": "49a1692f",
   "metadata": {},
   "outputs": [],
   "source": [
    "chain = pd.read_csv(\"option_chain.csv\")\n",
    "dte = 4\n",
    "risk_free_rate = .0006\n",
    "\n",
    "position = OptionPosition(chain, vols, dte, risk_free_rate)"
   ]
  },
  {
   "cell_type": "code",
   "execution_count": 7,
   "id": "34debb06",
   "metadata": {},
   "outputs": [
    {
     "data": {
      "text/plain": [
       "array([0.66435299])"
      ]
     },
     "execution_count": 7,
     "metadata": {},
     "output_type": "execute_result"
    }
   ],
   "source": [
    "position.calc_kelly()"
   ]
  },
  {
   "cell_type": "code",
   "execution_count": 8,
   "id": "3d05766d",
   "metadata": {},
   "outputs": [
    {
     "data": {
      "text/plain": [
       "strike            4010.0\n",
       "right                  P\n",
       "bid                  2.3\n",
       "ask                 2.45\n",
       "impvol          0.176947\n",
       "delta          -0.060185\n",
       "modelprice      2.029832\n",
       "gamma           0.001537\n",
       "vega            0.524454\n",
       "theta          -1.122461\n",
       "underprice       4128.99\n",
       "model_value     1.115593\n",
       "mid_price          2.375\n",
       "skew_premium    1.259407\n",
       "Name: 648, dtype: object"
      ]
     },
     "execution_count": 8,
     "metadata": {},
     "output_type": "execute_result"
    }
   ],
   "source": [
    "position.short_put"
   ]
  },
  {
   "cell_type": "code",
   "execution_count": 9,
   "id": "fe9cbb0f",
   "metadata": {},
   "outputs": [
    {
     "data": {
      "text/plain": [
       "strike            4215.0\n",
       "right                  C\n",
       "bid                  1.6\n",
       "ask                 1.75\n",
       "impvol          0.124385\n",
       "delta           0.058957\n",
       "modelprice      1.375982\n",
       "gamma           0.002151\n",
       "vega            0.516097\n",
       "theta          -0.777411\n",
       "underprice       4129.05\n",
       "model_value     3.696619\n",
       "mid_price          1.675\n",
       "skew_premium   -2.021619\n",
       "Name: 335, dtype: object"
      ]
     },
     "execution_count": 9,
     "metadata": {},
     "output_type": "execute_result"
    }
   ],
   "source": [
    "position.short_call"
   ]
  },
  {
   "cell_type": "code",
   "execution_count": null,
   "id": "9025417d",
   "metadata": {},
   "outputs": [],
   "source": []
  }
 ],
 "metadata": {
  "kernelspec": {
   "display_name": "Python 3",
   "language": "python",
   "name": "python3"
  },
  "language_info": {
   "codemirror_mode": {
    "name": "ipython",
    "version": 3
   },
   "file_extension": ".py",
   "mimetype": "text/x-python",
   "name": "python",
   "nbconvert_exporter": "python",
   "pygments_lexer": "ipython3",
   "version": "3.8.5"
  }
 },
 "nbformat": 4,
 "nbformat_minor": 5
}
