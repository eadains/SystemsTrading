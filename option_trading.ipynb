{
 "cells": [
  {
   "cell_type": "code",
   "execution_count": 1,
   "id": "2e529c67",
   "metadata": {},
   "outputs": [],
   "source": [
    "from modules.option_trading import OptionPosition\n",
    "from modules.vol_mdn import MDNVol, Data\n",
    "\n",
    "import numpy as np\n",
    "import pandas as pd\n",
    "\n",
    "from matplotlib import pyplot as plt\n",
    "\n",
    "plt.rcParams[\"figure.figsize\"] = (15, 10)"
   ]
  },
  {
   "cell_type": "code",
   "execution_count": 2,
   "id": "407b1bcb",
   "metadata": {},
   "outputs": [],
   "source": [
    "data = Data()"
   ]
  },
  {
   "cell_type": "code",
   "execution_count": 3,
   "id": "2b1fbf79",
   "metadata": {},
   "outputs": [],
   "source": [
    "x, y = data.get_training_data()\n",
    "oos_x = data.get_forecast_data()"
   ]
  },
  {
   "cell_type": "code",
   "execution_count": 32,
   "id": "9a8821eb",
   "metadata": {
    "scrolled": false
   },
   "outputs": [
    {
     "name": "stdout",
     "output_type": "stream",
     "text": [
      "Epoch 0 complete. Loss: 68937.7890625\n",
      "Epoch 10 complete. Loss: 17523.55078125\n",
      "Epoch 20 complete. Loss: 12474.921875\n",
      "Epoch 30 complete. Loss: 11497.2041015625\n",
      "Epoch 40 complete. Loss: 10537.03125\n",
      "Epoch 50 complete. Loss: 9724.2333984375\n",
      "Epoch 60 complete. Loss: 9353.193359375\n",
      "Epoch 70 complete. Loss: 9100.7919921875\n",
      "Epoch 80 complete. Loss: 9088.8134765625\n",
      "Epoch 90 complete. Loss: 8870.5810546875\n",
      "Epoch 100 complete. Loss: 8997.44140625\n",
      "Epoch 110 complete. Loss: 7990.484375\n",
      "Epoch 120 complete. Loss: 7327.3212890625\n",
      "Epoch 130 complete. Loss: 6714.3896484375\n",
      "Epoch 140 complete. Loss: 6339.603515625\n",
      "Epoch 150 complete. Loss: 5854.4375\n",
      "Epoch 160 complete. Loss: 5645.37744140625\n",
      "Epoch 170 complete. Loss: 5408.0244140625\n",
      "Epoch 180 complete. Loss: 5246.880859375\n",
      "Epoch 190 complete. Loss: 5111.72265625\n",
      "Epoch 200 complete. Loss: 5075.232421875\n",
      "Epoch 210 complete. Loss: 4985.8759765625\n",
      "Epoch 220 complete. Loss: 4963.36181640625\n",
      "Epoch 230 complete. Loss: 4919.0673828125\n",
      "Epoch 240 complete. Loss: 4875.8896484375\n",
      "Epoch 250 complete. Loss: 4871.52685546875\n",
      "Epoch 260 complete. Loss: 4805.1455078125\n",
      "Epoch 270 complete. Loss: 4883.970703125\n",
      "Epoch 280 complete. Loss: 4780.4296875\n",
      "Epoch 290 complete. Loss: 4846.77490234375\n",
      "Epoch 300 complete. Loss: 4838.08056640625\n",
      "Epoch 310 complete. Loss: 4719.521484375\n",
      "Epoch 320 complete. Loss: 4662.9921875\n",
      "Epoch 330 complete. Loss: 4577.5498046875\n",
      "Epoch 340 complete. Loss: 4495.29638671875\n",
      "Epoch 350 complete. Loss: 4526.9267578125\n",
      "Epoch 360 complete. Loss: 4326.3564453125\n",
      "Epoch 370 complete. Loss: 4455.19384765625\n",
      "Epoch 380 complete. Loss: 4412.7822265625\n",
      "Epoch 390 complete. Loss: 4321.3955078125\n",
      "Epoch 400 complete. Loss: 4360.85546875\n",
      "Epoch 410 complete. Loss: 4259.3212890625\n",
      "Epoch 420 complete. Loss: 4308.36328125\n",
      "Epoch 430 complete. Loss: 4233.4189453125\n",
      "Epoch 440 complete. Loss: 4252.46142578125\n",
      "Epoch 450 complete. Loss: 4266.7880859375\n",
      "Epoch 460 complete. Loss: 4275.61962890625\n",
      "Epoch 470 complete. Loss: 4310.50390625\n",
      "Epoch 480 complete. Loss: 4212.35986328125\n",
      "Epoch 490 complete. Loss: 4231.23046875\n",
      "Epoch 500 complete. Loss: 4230.98974609375\n",
      "Epoch 510 complete. Loss: 4155.66552734375\n",
      "Epoch 520 complete. Loss: 4146.11328125\n",
      "Epoch 530 complete. Loss: 4186.017578125\n",
      "Epoch 540 complete. Loss: 4163.396484375\n",
      "Epoch 550 complete. Loss: 4235.8564453125\n",
      "Epoch 560 complete. Loss: 4137.21826171875\n",
      "Epoch 570 complete. Loss: 4117.20556640625\n",
      "Epoch 580 complete. Loss: 4093.3837890625\n",
      "Epoch 590 complete. Loss: 4101.18896484375\n",
      "Epoch 600 complete. Loss: 4177.80908203125\n",
      "Epoch 610 complete. Loss: 4121.9873046875\n",
      "Epoch 620 complete. Loss: 4117.46484375\n",
      "Epoch 630 complete. Loss: 4131.525390625\n",
      "Epoch 640 complete. Loss: 4102.9794921875\n",
      "Epoch 650 complete. Loss: 4101.1572265625\n",
      "Epoch 660 complete. Loss: 4131.931640625\n",
      "Epoch 670 complete. Loss: 4227.498046875\n",
      "Epoch 680 complete. Loss: 4142.9638671875\n",
      "Epoch 690 complete. Loss: 4110.3896484375\n",
      "Epoch 700 complete. Loss: 4106.78515625\n",
      "Epoch 710 complete. Loss: 4145.20947265625\n",
      "Epoch 720 complete. Loss: 4078.168701171875\n",
      "Epoch 730 complete. Loss: 4217.2900390625\n",
      "Epoch 740 complete. Loss: 4178.81005859375\n",
      "Epoch 750 complete. Loss: 4102.80029296875\n",
      "Epoch 760 complete. Loss: 4120.66943359375\n",
      "Epoch 770 complete. Loss: 4076.4150390625\n",
      "Epoch 780 complete. Loss: 4022.7236328125\n",
      "Epoch 790 complete. Loss: 4145.4736328125\n",
      "Epoch 800 complete. Loss: 4124.69140625\n",
      "Epoch 810 complete. Loss: 4090.74560546875\n",
      "Epoch 820 complete. Loss: 4027.40234375\n",
      "Epoch 830 complete. Loss: 4071.310546875\n",
      "Epoch 840 complete. Loss: 4055.514404296875\n",
      "Epoch 850 complete. Loss: 3961.26025390625\n",
      "Epoch 860 complete. Loss: 4060.70458984375\n",
      "Epoch 870 complete. Loss: 4118.7275390625\n",
      "Epoch 880 complete. Loss: 4081.110107421875\n",
      "Epoch 890 complete. Loss: 4076.30419921875\n",
      "Epoch 900 complete. Loss: 4002.41162109375\n",
      "Epoch 910 complete. Loss: 4019.04638671875\n",
      "Epoch 920 complete. Loss: 4063.42431640625\n",
      "Epoch 930 complete. Loss: 4006.44482421875\n",
      "Epoch 940 complete. Loss: 3979.29345703125\n",
      "Epoch 950 complete. Loss: 4013.8525390625\n",
      "Epoch 960 complete. Loss: 4001.4208984375\n",
      "Epoch 970 complete. Loss: 3919.517578125\n",
      "Epoch 980 complete. Loss: 3945.15087890625\n",
      "Epoch 990 complete. Loss: 4027.367431640625\n"
     ]
    }
   ],
   "source": [
    "model = MDNVol(x, y)\n",
    "dist = model.output_dist(oos_x)"
   ]
  },
  {
   "cell_type": "code",
   "execution_count": 33,
   "id": "31543a01",
   "metadata": {},
   "outputs": [],
   "source": [
    "vols = dist.sample([100000]).squeeze().numpy()\n",
    "vols = np.sqrt(np.exp(vols))"
   ]
  },
  {
   "cell_type": "code",
   "execution_count": 34,
   "id": "49a1692f",
   "metadata": {},
   "outputs": [],
   "source": [
    "chain = pd.read_csv(\"option_chain.csv\")\n",
    "dte = 4\n",
    "risk_free_rate = .0006\n",
    "\n",
    "position = OptionPosition(chain, vols, dte, risk_free_rate)"
   ]
  },
  {
   "cell_type": "code",
   "execution_count": 17,
   "id": "34debb06",
   "metadata": {},
   "outputs": [
    {
     "name": "stdout",
     "output_type": "stream",
     "text": [
      "Probability of Profit: 96.38%\n",
      "Mean Profit on Win: 7.01%\n",
      "Mean Profit on Loss: -77.68%\n",
      "Forecasted 5-day Volatility (Annualized): 7.09% +/- 7.51%\n",
      "Kelly Bet Percentage: 63.17%\n"
     ]
    }
   ],
   "source": [
    "position.calc_kelly()"
   ]
  },
  {
   "cell_type": "code",
   "execution_count": 36,
   "id": "370994d4",
   "metadata": {},
   "outputs": [
    {
     "data": {
      "text/plain": [
       "strike            4010.0\n",
       "right                  P\n",
       "bid                  2.3\n",
       "ask                 2.45\n",
       "impvol          0.176947\n",
       "delta          -0.060185\n",
       "modelprice      2.029832\n",
       "gamma           0.001537\n",
       "vega            0.524454\n",
       "theta          -1.122461\n",
       "underprice       4128.99\n",
       "model_value     1.115593\n",
       "mid_price          2.375\n",
       "skew_premium    1.259407\n",
       "Name: 648, dtype: object"
      ]
     },
     "execution_count": 36,
     "metadata": {},
     "output_type": "execute_result"
    }
   ],
   "source": [
    "position.short_put"
   ]
  },
  {
   "cell_type": "code",
   "execution_count": 37,
   "id": "484dfdbf",
   "metadata": {},
   "outputs": [
    {
     "data": {
      "text/plain": [
       "strike            4215.0\n",
       "right                  C\n",
       "bid                  1.6\n",
       "ask                 1.75\n",
       "impvol          0.124385\n",
       "delta           0.058957\n",
       "modelprice      1.375982\n",
       "gamma           0.002151\n",
       "vega            0.516097\n",
       "theta          -0.777411\n",
       "underprice       4129.05\n",
       "model_value     3.696619\n",
       "mid_price          1.675\n",
       "skew_premium   -2.021619\n",
       "Name: 335, dtype: object"
      ]
     },
     "execution_count": 37,
     "metadata": {},
     "output_type": "execute_result"
    }
   ],
   "source": [
    "position.short_call"
   ]
  },
  {
   "cell_type": "code",
   "execution_count": null,
   "id": "9d78dd3e",
   "metadata": {},
   "outputs": [],
   "source": []
  }
 ],
 "metadata": {
  "kernelspec": {
   "display_name": "Python 3",
   "language": "python",
   "name": "python3"
  },
  "language_info": {
   "codemirror_mode": {
    "name": "ipython",
    "version": 3
   },
   "file_extension": ".py",
   "mimetype": "text/x-python",
   "name": "python",
   "nbconvert_exporter": "python",
   "pygments_lexer": "ipython3",
   "version": "3.8.5"
  }
 },
 "nbformat": 4,
 "nbformat_minor": 5
}
