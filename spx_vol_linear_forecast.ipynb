{
 "cells": [
  {
   "cell_type": "markdown",
   "id": "confident-consent",
   "metadata": {},
   "source": [
    "So now that I've decided that I'm going to use 1-min RV as my volatility proxy, I can move on to the juicy part: forecasting."
   ]
  },
  {
   "cell_type": "markdown",
   "id": "differential-gothic",
   "metadata": {},
   "source": [
    "# The Data\n",
    "\n",
    "---\n"
   ]
  },
  {
   "cell_type": "code",
   "execution_count": 1,
   "id": "joint-distance",
   "metadata": {},
   "outputs": [],
   "source": [
    "import pandas as pd\n",
    "import numpy as np\n",
    "import sqlite3\n",
    "from matplotlib import pyplot as plt\n",
    "from scipy import stats\n",
    "\n",
    "# Set default figure size\n",
    "plt.rcParams[\"figure.figsize\"] = (15, 10)\n",
    "pd.plotting.register_matplotlib_converters()"
   ]
  },
  {
   "cell_type": "code",
   "execution_count": 2,
   "id": "existing-narrative",
   "metadata": {},
   "outputs": [],
   "source": [
    "# Here's my minute data for the S&P 500\n",
    "spx_minute = minute = pd.read_csv(\"SPX_1min.csv\", header=0,names=['datetime', 'open', 'high', 'low', 'close'],\n",
    "                                  index_col='datetime', parse_dates=True)"
   ]
  },
  {
   "cell_type": "code",
   "execution_count": 3,
   "id": "indie-survival",
   "metadata": {},
   "outputs": [],
   "source": [
    "# Here's the function for calculating the 1-min RV, as discussed in my last post\n",
    "def rv_calc(data):\n",
    "    results = {}\n",
    "    \n",
    "    for idx, data in data.groupby(data.index.date):\n",
    "        returns = np.log(data['close']) - np.log(data['close'].shift(1))\n",
    "        results[idx] = np.sum(returns**2)\n",
    "        \n",
    "    return pd.Series(results)"
   ]
  },
  {
   "cell_type": "code",
   "execution_count": 4,
   "id": "assured-metadata",
   "metadata": {},
   "outputs": [],
   "source": [
    "spx_rv = rv_calc(spx_minute)"
   ]
  },
  {
   "cell_type": "markdown",
   "id": "million-burns",
   "metadata": {},
   "source": [
    "# The Model"
   ]
  },
  {
   "cell_type": "markdown",
   "id": "interior-empire",
   "metadata": {},
   "source": [
    "My goal is to predict the volatility over the next week, or 5 trading days. This means my independent variables will be the last 21 days of volatility, and my dependent variable is the realized volatility over the next 5 days. For the sake of increased samples, I'm going to create a rolling 5-day window of volatility and shift it 5 periods backwards and use that as the dependent variable. This means I can create a 5-day volatility forecast for each day, rather than each week."
   ]
  },
  {
   "cell_type": "code",
   "execution_count": 63,
   "id": "starting-correspondence",
   "metadata": {},
   "outputs": [],
   "source": [
    "def create_lags(series, lags):\n",
    "    \"\"\"\n",
    "    Creates a dataframe with lagged values of the given series.\n",
    "    Generates columns named x_{n} which means the value of each row is the value of the original series lagged n times\n",
    "    \"\"\"\n",
    "    result = pd.DataFrame(index=series.index)\n",
    "    result[\"x\"] = series\n",
    "    \"\"\n",
    "    for n in range(lags):\n",
    "        result[f\"x_{n+1}\"] = series.shift((n+1))\n",
    "        \n",
    "    return result"
   ]
  },
  {
   "cell_type": "code",
   "execution_count": 77,
   "id": "premium-accused",
   "metadata": {},
   "outputs": [],
   "source": [
    "dep_var = spx_rv.rolling(5).sum().shift(-5).dropna()\n",
    "indep_var = create_lags(spx_rv, 21).dropna()\n",
    "# This ensures that we only keep rows that occur in each set. This means their length is the same and\n",
    "# rows match up properly\n",
    "common_index = dep_var.index.intersection(indep_var.index)\n",
    "dep_var = dep_var.loc[common_index]\n",
    "indep_var = indep_var.loc[common_index]"
   ]
  },
  {
   "cell_type": "code",
   "execution_count": null,
   "id": "liberal-experiment",
   "metadata": {},
   "outputs": [],
   "source": []
  }
 ],
 "metadata": {
  "kernelspec": {
   "display_name": "Python 3",
   "language": "python",
   "name": "python3"
  },
  "language_info": {
   "codemirror_mode": {
    "name": "ipython",
    "version": 3
   },
   "file_extension": ".py",
   "mimetype": "text/x-python",
   "name": "python",
   "nbconvert_exporter": "python",
   "pygments_lexer": "ipython3",
   "version": "3.8.5"
  }
 },
 "nbformat": 4,
 "nbformat_minor": 5
}
