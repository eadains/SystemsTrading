{
 "cells": [
  {
   "cell_type": "code",
   "execution_count": 6,
   "id": "0b5daba3",
   "metadata": {},
   "outputs": [],
   "source": [
    "import pandas as pd\n",
    "from scipy.stats import norm\n",
    "import numpy as np\n",
    "from matplotlib import pyplot as plt\n",
    "\n",
    "plt.rcParams[\"figure.figsize\"] = (15, 10)"
   ]
  },
  {
   "cell_type": "code",
   "execution_count": 7,
   "id": "dfe026c7",
   "metadata": {
    "scrolled": false
   },
   "outputs": [],
   "source": [
    "chain = pd.read_csv(\"option_chain.csv\")"
   ]
  },
  {
   "cell_type": "code",
   "execution_count": 14,
   "id": "e260487e",
   "metadata": {},
   "outputs": [],
   "source": [
    "def calc_values(chain):\n",
    "    underlying_price = 4106.62\n",
    "    dte = 5\n",
    "    risk_free_rate = 0.0006\n",
    "    atm_contract_index = (np.abs(chain[\"strike\"] - 4106.62)).idxmin()\n",
    "    atm_impliedvol = chain.iloc[atm_contract_index][\"impvol\"]\n",
    "\n",
    "    # Calculate option value for all options using ATM volatility\n",
    "    chain[\"values\"] = chain.apply(\n",
    "        lambda x: bs_price(\n",
    "            x[\"right\"],\n",
    "            x[\"underprice\"],\n",
    "            x[\"strike\"],\n",
    "            dte / 252,\n",
    "            atm_impliedvol,\n",
    "            risk_free_rate,\n",
    "        ),\n",
    "        axis=1,\n",
    "    )\n",
    "    chain[\"mid_price\"] = (chain[\"bid\"] + chain[\"ask\"]) / 2\n",
    "    chain[\"skew_premium\"] = chain[\"mid_price\"] - chain[\"values\"]\n",
    "\n",
    "    return chain"
   ]
  },
  {
   "cell_type": "code",
   "execution_count": 11,
   "id": "ee4e50a8",
   "metadata": {},
   "outputs": [],
   "source": [
    "def bs_price(right, S, K, T, sigma, r):\n",
    "    \"\"\"\n",
    "    Return's option price via Black-Scholes\n",
    "    \n",
    "    right: \"P\" or \"C\"\n",
    "    S: Underlying price\n",
    "    K: Strike price\n",
    "    T: time to expiration (in days)\n",
    "    sigma: volatility of the underlying\n",
    "    r: interest rate (in daily terms)\n",
    "    \"\"\"\n",
    "    d1 = (1 / (sigma * np.sqrt(T))) * (np.log(S / K) + (r + sigma**2 / 2) * T)\n",
    "    d2 = d1 - sigma * np.sqrt(T)\n",
    "    \n",
    "    if right == \"C\":\n",
    "        price = norm.cdf(d1) * S - norm.cdf(d2) * K * np.exp(-r * T)\n",
    "        return price\n",
    "    \n",
    "    if right == \"P\":\n",
    "        price = norm.cdf(-d2) * K * np.exp(-r * T) - norm.cdf(-d1) * S\n",
    "        return price"
   ]
  },
  {
   "cell_type": "code",
   "execution_count": 6,
   "id": "ea9190c8",
   "metadata": {},
   "outputs": [],
   "source": [
    "underlying_price = 4106.62\n",
    "dte = 5\n",
    "risk_free_rate = .0006\n",
    "atm_contract_index = (np.abs(chain[\"strike\"] - 4106.62)).idxmin()\n",
    "atm_impliedvol = chain.iloc[atm_contract_index][\"impvol\"]\n",
    "\n",
    "# Calculate option value for all options using ATM volatility\n",
    "chain[\"values\"] = chain.apply(lambda x: bs_price(x[\"right\"], underlying_price, x[\"strike\"], dte / 252,\n",
    "                                                 atm_impliedvol, risk_free_rate), axis=1)\n",
    "chain[\"mid_price\"] = (chain[\"bid\"] + chain[\"ask\"]) / 2\n",
    "chain[\"skew_premium\"] = chain[\"mid_price\"] - chain[\"values\"]"
   ]
  },
  {
   "cell_type": "code",
   "execution_count": 195,
   "id": "f71bcce5",
   "metadata": {},
   "outputs": [],
   "source": [
    "put_contract = chain[chain[\"right\"] == \"P\"][\"skew_premium\"].idxmax()\n",
    "put_contract = chain.iloc[put_contract]\n",
    "# Buy put option so our margin required is $1000\n",
    "put_contract_hedge = chain[(chain[\"strike\"] == (put_contract[\"strike\"] - 10)) & (chain[\"right\"] == \"P\")].squeeze()\n",
    "\n",
    "# Find the corresponding call option to make the position delta neutral\n",
    "put_contract_delta = put_contract[\"delta\"]\n",
    "call_contract = np.abs(chain[chain[\"right\"] == \"C\"][\"delta\"] + put_contract_delta).idxmin()\n",
    "call_contract = chain[chain[\"right\"] == \"C\"].iloc[call_contract]\n",
    "# Find respective call hedge option\n",
    "call_contract_hedge = chain[(chain[\"strike\"] == (call_contract[\"strike\"] + 10)) & (chain[\"right\"] == \"C\")].squeeze()"
   ]
  },
  {
   "cell_type": "code",
   "execution_count": 241,
   "id": "1a79e98e",
   "metadata": {},
   "outputs": [],
   "source": [
    "class ShortIronCondor():\n",
    "    def __init__(self, put, call, hedge_put, hedge_call):\n",
    "        self.put = put\n",
    "        self.call = call\n",
    "        self.hedge_put = hedge_put\n",
    "        self.hedge_call = hedge_call\n",
    "        self.premium = (call[\"mid_price\"] + put[\"mid_price\"]) - (hedge_put[\"mid_price\"] + hedge_call[\"mid_price\"])\n",
    "        self.max_loss = put[\"strike\"] - hedge_put[\"strike\"] - self.premium\n",
    "        \n",
    "    def pnl(self, underlying_price):\n",
    "        if self.call[\"strike\"] > underlying_price > self.put[\"strike\"]:\n",
    "            pnl = self.premium\n",
    "        elif underlying_price < self.put[\"strike\"]:\n",
    "            pnl = max((underlying_price - self.put[\"strike\"]) + self.premium, -self.max_loss)\n",
    "        elif underlying_price > self.call[\"strike\"]:\n",
    "            pnl = max((self.call[\"strike\"] - underlying_price) + self.premium, -self.max_loss)\n",
    "        return pnl"
   ]
  },
  {
   "cell_type": "code",
   "execution_count": 293,
   "id": "54bb6c24",
   "metadata": {},
   "outputs": [],
   "source": [
    "vols = norm.rvs(.10, .01, 5000)\n",
    "returns = norm.rvs(0, vols / np.sqrt(52))\n",
    "prices = underlying_price * (1 + returns)\n",
    "\n",
    "position = ShortIronCondor(put_contract, call_contract, put_contract_hedge, call_contract_hedge)\n",
    "vfunc = np.vectorize(position.pnl)\n",
    "pnl = vfunc(prices)"
   ]
  },
  {
   "cell_type": "code",
   "execution_count": 304,
   "id": "19b9b2a6",
   "metadata": {},
   "outputs": [],
   "source": [
    "profit_percent = np.sum(pnl > 0) / len(pnl)\n",
    "mean_profit = np.mean(pnl[pnl > 0]) / 10 \n",
    "mean_loss = -np.mean(pnl[pnl < 0]) / 10"
   ]
  },
  {
   "cell_type": "code",
   "execution_count": 306,
   "id": "a5244d31",
   "metadata": {},
   "outputs": [
    {
     "data": {
      "text/plain": [
       "0.3685352056030893"
      ]
     },
     "execution_count": 306,
     "metadata": {},
     "output_type": "execute_result"
    }
   ],
   "source": [
    "(profit_percent / mean_loss) - ((1-profit_percent) / mean_profit)"
   ]
  },
  {
   "cell_type": "code",
   "execution_count": null,
   "id": "cf6fd61d",
   "metadata": {},
   "outputs": [],
   "source": []
  }
 ],
 "metadata": {
  "kernelspec": {
   "display_name": "Python 3",
   "language": "python",
   "name": "python3"
  },
  "language_info": {
   "codemirror_mode": {
    "name": "ipython",
    "version": 3
   },
   "file_extension": ".py",
   "mimetype": "text/x-python",
   "name": "python",
   "nbconvert_exporter": "python",
   "pygments_lexer": "ipython3",
   "version": "3.8.5"
  }
 },
 "nbformat": 4,
 "nbformat_minor": 5
}
